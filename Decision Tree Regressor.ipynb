{
 "cells": [
  {
   "cell_type": "code",
   "execution_count": null,
   "id": "eebb2160",
   "metadata": {},
   "outputs": [],
   "source": [
    "import pandas as pd\n",
    "from sklearn.tree import DecisionTreeRegressor "
   ]
  },
  {
   "cell_type": "code",
   "execution_count": null,
   "id": "3bddd8cd",
   "metadata": {},
   "outputs": [],
   "source": [
    "df = pd.read_csv(\"https://raw.githubusercontent.com/bhattbhavesh91/multivariate-adaptive-regression-splines-demo/main/Data.csv\")"
   ]
  },
  {
   "cell_type": "code",
   "execution_count": null,
   "id": "11048ac4",
   "metadata": {},
   "outputs": [],
   "source": [
    "df.head(3)"
   ]
  },
  {
   "cell_type": "code",
   "execution_count": null,
   "id": "dbdb5332",
   "metadata": {},
   "outputs": [],
   "source": [
    "X = df[[\"TV\", \"radio\", \"newspaper\"]]\n",
    "y = df[\"sales\"]"
   ]
  },
  {
   "cell_type": "code",
   "execution_count": null,
   "id": "e0ce2b7d",
   "metadata": {},
   "outputs": [],
   "source": [
    "regressor = DecisionTreeRegressor(random_state = 2022, max_depth=3) "
   ]
  },
  {
   "cell_type": "code",
   "execution_count": null,
   "id": "5eb00a24",
   "metadata": {},
   "outputs": [],
   "source": [
    "regressor.fit(X, y)"
   ]
  },
  {
   "cell_type": "code",
   "execution_count": null,
   "id": "91ff04de",
   "metadata": {},
   "outputs": [],
   "source": [
    "from sklearn import tree\n",
    "import matplotlib.pyplot as plt"
   ]
  },
  {
   "cell_type": "code",
   "execution_count": null,
   "id": "f389669f",
   "metadata": {},
   "outputs": [],
   "source": [
    "fig = plt.figure(figsize=(25,20))\n",
    "_ = tree.plot_tree(regressor,\n",
    "                   feature_names = [\"TV\", \"radio\", \"newspaper\"],\n",
    "                   class_names = \"sales\",\n",
    "                   filled=True)"
   ]
  },
  {
   "cell_type": "code",
   "execution_count": null,
   "id": "c6d99473",
   "metadata": {},
   "outputs": [],
   "source": [
    "!pip install -q dtreeviz"
   ]
  },
  {
   "cell_type": "code",
   "execution_count": null,
   "id": "21b156ff",
   "metadata": {},
   "outputs": [],
   "source": [
    "from dtreeviz.trees import *"
   ]
  },
  {
   "cell_type": "code",
   "execution_count": null,
   "id": "4798688a",
   "metadata": {},
   "outputs": [],
   "source": [
    "viz = dtreeviz(regressor,\n",
    "               X,\n",
    "               y,\n",
    "               target_name='sales',\n",
    "               feature_names=[\"TV\", \"radio\", \"newspaper\"])"
   ]
  },
  {
   "cell_type": "code",
   "execution_count": null,
   "id": "3128b28d",
   "metadata": {},
   "outputs": [],
   "source": [
    "viz       "
   ]
  }
 ],
 "metadata": {
  "kernelspec": {
   "display_name": "Python 3",
   "language": "python",
   "name": "python3"
  },
  "language_info": {
   "codemirror_mode": {
    "name": "ipython",
    "version": 3
   },
   "file_extension": ".py",
   "mimetype": "text/x-python",
   "name": "python",
   "nbconvert_exporter": "python",
   "pygments_lexer": "ipython3",
   "version": "3.8.8"
  }
 },
 "nbformat": 4,
 "nbformat_minor": 5
}
