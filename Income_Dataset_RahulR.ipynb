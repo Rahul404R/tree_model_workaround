{
 "cells": [
  {
   "cell_type": "code",
   "execution_count": 1,
   "id": "1a941377",
   "metadata": {},
   "outputs": [],
   "source": [
    "import numpy as np\n",
    "import pandas as pd\n",
    "import matplotlib.pyplot as plt\n",
    "import seaborn as sns"
   ]
  },
  {
   "cell_type": "code",
   "execution_count": 2,
   "id": "36e49644",
   "metadata": {},
   "outputs": [],
   "source": [
    "data = pd.read_csv('C:/Users/signi/Downloads/income.csv')"
   ]
  },
  {
   "cell_type": "code",
   "execution_count": 3,
   "id": "8716d986",
   "metadata": {},
   "outputs": [
    {
     "data": {
      "text/html": [
       "<div>\n",
       "<style scoped>\n",
       "    .dataframe tbody tr th:only-of-type {\n",
       "        vertical-align: middle;\n",
       "    }\n",
       "\n",
       "    .dataframe tbody tr th {\n",
       "        vertical-align: top;\n",
       "    }\n",
       "\n",
       "    .dataframe thead th {\n",
       "        text-align: right;\n",
       "    }\n",
       "</style>\n",
       "<table border=\"1\" class=\"dataframe\">\n",
       "  <thead>\n",
       "    <tr style=\"text-align: right;\">\n",
       "      <th></th>\n",
       "      <th>age</th>\n",
       "      <th>fnlwgt</th>\n",
       "      <th>education_num</th>\n",
       "      <th>capital_gain</th>\n",
       "      <th>capital_loss</th>\n",
       "      <th>hours_per_week</th>\n",
       "      <th>income_level</th>\n",
       "    </tr>\n",
       "  </thead>\n",
       "  <tbody>\n",
       "    <tr>\n",
       "      <th>0</th>\n",
       "      <td>39</td>\n",
       "      <td>77516</td>\n",
       "      <td>13</td>\n",
       "      <td>2174</td>\n",
       "      <td>0</td>\n",
       "      <td>40</td>\n",
       "      <td>0</td>\n",
       "    </tr>\n",
       "    <tr>\n",
       "      <th>1</th>\n",
       "      <td>50</td>\n",
       "      <td>83311</td>\n",
       "      <td>13</td>\n",
       "      <td>0</td>\n",
       "      <td>0</td>\n",
       "      <td>13</td>\n",
       "      <td>0</td>\n",
       "    </tr>\n",
       "    <tr>\n",
       "      <th>2</th>\n",
       "      <td>38</td>\n",
       "      <td>215646</td>\n",
       "      <td>9</td>\n",
       "      <td>0</td>\n",
       "      <td>0</td>\n",
       "      <td>40</td>\n",
       "      <td>0</td>\n",
       "    </tr>\n",
       "    <tr>\n",
       "      <th>3</th>\n",
       "      <td>53</td>\n",
       "      <td>234721</td>\n",
       "      <td>7</td>\n",
       "      <td>0</td>\n",
       "      <td>0</td>\n",
       "      <td>40</td>\n",
       "      <td>0</td>\n",
       "    </tr>\n",
       "    <tr>\n",
       "      <th>4</th>\n",
       "      <td>28</td>\n",
       "      <td>338409</td>\n",
       "      <td>13</td>\n",
       "      <td>0</td>\n",
       "      <td>0</td>\n",
       "      <td>40</td>\n",
       "      <td>0</td>\n",
       "    </tr>\n",
       "    <tr>\n",
       "      <th>...</th>\n",
       "      <td>...</td>\n",
       "      <td>...</td>\n",
       "      <td>...</td>\n",
       "      <td>...</td>\n",
       "      <td>...</td>\n",
       "      <td>...</td>\n",
       "      <td>...</td>\n",
       "    </tr>\n",
       "    <tr>\n",
       "      <th>48837</th>\n",
       "      <td>39</td>\n",
       "      <td>215419</td>\n",
       "      <td>13</td>\n",
       "      <td>0</td>\n",
       "      <td>0</td>\n",
       "      <td>36</td>\n",
       "      <td>0</td>\n",
       "    </tr>\n",
       "    <tr>\n",
       "      <th>48838</th>\n",
       "      <td>64</td>\n",
       "      <td>321403</td>\n",
       "      <td>9</td>\n",
       "      <td>0</td>\n",
       "      <td>0</td>\n",
       "      <td>40</td>\n",
       "      <td>0</td>\n",
       "    </tr>\n",
       "    <tr>\n",
       "      <th>48839</th>\n",
       "      <td>38</td>\n",
       "      <td>374983</td>\n",
       "      <td>13</td>\n",
       "      <td>0</td>\n",
       "      <td>0</td>\n",
       "      <td>50</td>\n",
       "      <td>0</td>\n",
       "    </tr>\n",
       "    <tr>\n",
       "      <th>48840</th>\n",
       "      <td>44</td>\n",
       "      <td>83891</td>\n",
       "      <td>13</td>\n",
       "      <td>5455</td>\n",
       "      <td>0</td>\n",
       "      <td>40</td>\n",
       "      <td>0</td>\n",
       "    </tr>\n",
       "    <tr>\n",
       "      <th>48841</th>\n",
       "      <td>35</td>\n",
       "      <td>182148</td>\n",
       "      <td>13</td>\n",
       "      <td>0</td>\n",
       "      <td>0</td>\n",
       "      <td>60</td>\n",
       "      <td>1</td>\n",
       "    </tr>\n",
       "  </tbody>\n",
       "</table>\n",
       "<p>48842 rows × 7 columns</p>\n",
       "</div>"
      ],
      "text/plain": [
       "       age  fnlwgt  education_num  capital_gain  capital_loss  hours_per_week  \\\n",
       "0       39   77516             13          2174             0              40   \n",
       "1       50   83311             13             0             0              13   \n",
       "2       38  215646              9             0             0              40   \n",
       "3       53  234721              7             0             0              40   \n",
       "4       28  338409             13             0             0              40   \n",
       "...    ...     ...            ...           ...           ...             ...   \n",
       "48837   39  215419             13             0             0              36   \n",
       "48838   64  321403              9             0             0              40   \n",
       "48839   38  374983             13             0             0              50   \n",
       "48840   44   83891             13          5455             0              40   \n",
       "48841   35  182148             13             0             0              60   \n",
       "\n",
       "       income_level  \n",
       "0                 0  \n",
       "1                 0  \n",
       "2                 0  \n",
       "3                 0  \n",
       "4                 0  \n",
       "...             ...  \n",
       "48837             0  \n",
       "48838             0  \n",
       "48839             0  \n",
       "48840             0  \n",
       "48841             1  \n",
       "\n",
       "[48842 rows x 7 columns]"
      ]
     },
     "execution_count": 3,
     "metadata": {},
     "output_type": "execute_result"
    }
   ],
   "source": [
    "data"
   ]
  },
  {
   "cell_type": "code",
   "execution_count": 4,
   "id": "b5d1d647",
   "metadata": {},
   "outputs": [
    {
     "name": "stdout",
     "output_type": "stream",
     "text": [
      "<class 'pandas.core.frame.DataFrame'>\n",
      "RangeIndex: 48842 entries, 0 to 48841\n",
      "Data columns (total 7 columns):\n",
      " #   Column          Non-Null Count  Dtype\n",
      "---  ------          --------------  -----\n",
      " 0   age             48842 non-null  int64\n",
      " 1   fnlwgt          48842 non-null  int64\n",
      " 2   education_num   48842 non-null  int64\n",
      " 3   capital_gain    48842 non-null  int64\n",
      " 4   capital_loss    48842 non-null  int64\n",
      " 5   hours_per_week  48842 non-null  int64\n",
      " 6   income_level    48842 non-null  int64\n",
      "dtypes: int64(7)\n",
      "memory usage: 2.6 MB\n"
     ]
    }
   ],
   "source": [
    "data.info()"
   ]
  },
  {
   "cell_type": "code",
   "execution_count": 5,
   "id": "96c15151",
   "metadata": {},
   "outputs": [
    {
     "data": {
      "text/html": [
       "<div>\n",
       "<style scoped>\n",
       "    .dataframe tbody tr th:only-of-type {\n",
       "        vertical-align: middle;\n",
       "    }\n",
       "\n",
       "    .dataframe tbody tr th {\n",
       "        vertical-align: top;\n",
       "    }\n",
       "\n",
       "    .dataframe thead th {\n",
       "        text-align: right;\n",
       "    }\n",
       "</style>\n",
       "<table border=\"1\" class=\"dataframe\">\n",
       "  <thead>\n",
       "    <tr style=\"text-align: right;\">\n",
       "      <th></th>\n",
       "      <th>age</th>\n",
       "      <th>fnlwgt</th>\n",
       "      <th>education_num</th>\n",
       "      <th>capital_gain</th>\n",
       "      <th>capital_loss</th>\n",
       "      <th>hours_per_week</th>\n",
       "      <th>income_level</th>\n",
       "    </tr>\n",
       "  </thead>\n",
       "  <tbody>\n",
       "    <tr>\n",
       "      <th>count</th>\n",
       "      <td>48842.000000</td>\n",
       "      <td>4.884200e+04</td>\n",
       "      <td>48842.000000</td>\n",
       "      <td>48842.000000</td>\n",
       "      <td>48842.000000</td>\n",
       "      <td>48842.000000</td>\n",
       "      <td>48842.000000</td>\n",
       "    </tr>\n",
       "    <tr>\n",
       "      <th>mean</th>\n",
       "      <td>38.643585</td>\n",
       "      <td>1.896641e+05</td>\n",
       "      <td>10.078089</td>\n",
       "      <td>1079.067626</td>\n",
       "      <td>87.502314</td>\n",
       "      <td>40.422382</td>\n",
       "      <td>0.239282</td>\n",
       "    </tr>\n",
       "    <tr>\n",
       "      <th>std</th>\n",
       "      <td>13.710510</td>\n",
       "      <td>1.056040e+05</td>\n",
       "      <td>2.570973</td>\n",
       "      <td>7452.019058</td>\n",
       "      <td>403.004552</td>\n",
       "      <td>12.391444</td>\n",
       "      <td>0.426649</td>\n",
       "    </tr>\n",
       "    <tr>\n",
       "      <th>min</th>\n",
       "      <td>17.000000</td>\n",
       "      <td>1.228500e+04</td>\n",
       "      <td>1.000000</td>\n",
       "      <td>0.000000</td>\n",
       "      <td>0.000000</td>\n",
       "      <td>1.000000</td>\n",
       "      <td>0.000000</td>\n",
       "    </tr>\n",
       "    <tr>\n",
       "      <th>25%</th>\n",
       "      <td>28.000000</td>\n",
       "      <td>1.175505e+05</td>\n",
       "      <td>9.000000</td>\n",
       "      <td>0.000000</td>\n",
       "      <td>0.000000</td>\n",
       "      <td>40.000000</td>\n",
       "      <td>0.000000</td>\n",
       "    </tr>\n",
       "    <tr>\n",
       "      <th>50%</th>\n",
       "      <td>37.000000</td>\n",
       "      <td>1.781445e+05</td>\n",
       "      <td>10.000000</td>\n",
       "      <td>0.000000</td>\n",
       "      <td>0.000000</td>\n",
       "      <td>40.000000</td>\n",
       "      <td>0.000000</td>\n",
       "    </tr>\n",
       "    <tr>\n",
       "      <th>75%</th>\n",
       "      <td>48.000000</td>\n",
       "      <td>2.376420e+05</td>\n",
       "      <td>12.000000</td>\n",
       "      <td>0.000000</td>\n",
       "      <td>0.000000</td>\n",
       "      <td>45.000000</td>\n",
       "      <td>0.000000</td>\n",
       "    </tr>\n",
       "    <tr>\n",
       "      <th>max</th>\n",
       "      <td>90.000000</td>\n",
       "      <td>1.490400e+06</td>\n",
       "      <td>16.000000</td>\n",
       "      <td>99999.000000</td>\n",
       "      <td>4356.000000</td>\n",
       "      <td>99.000000</td>\n",
       "      <td>1.000000</td>\n",
       "    </tr>\n",
       "  </tbody>\n",
       "</table>\n",
       "</div>"
      ],
      "text/plain": [
       "                age        fnlwgt  education_num  capital_gain  capital_loss  \\\n",
       "count  48842.000000  4.884200e+04   48842.000000  48842.000000  48842.000000   \n",
       "mean      38.643585  1.896641e+05      10.078089   1079.067626     87.502314   \n",
       "std       13.710510  1.056040e+05       2.570973   7452.019058    403.004552   \n",
       "min       17.000000  1.228500e+04       1.000000      0.000000      0.000000   \n",
       "25%       28.000000  1.175505e+05       9.000000      0.000000      0.000000   \n",
       "50%       37.000000  1.781445e+05      10.000000      0.000000      0.000000   \n",
       "75%       48.000000  2.376420e+05      12.000000      0.000000      0.000000   \n",
       "max       90.000000  1.490400e+06      16.000000  99999.000000   4356.000000   \n",
       "\n",
       "       hours_per_week  income_level  \n",
       "count    48842.000000  48842.000000  \n",
       "mean        40.422382      0.239282  \n",
       "std         12.391444      0.426649  \n",
       "min          1.000000      0.000000  \n",
       "25%         40.000000      0.000000  \n",
       "50%         40.000000      0.000000  \n",
       "75%         45.000000      0.000000  \n",
       "max         99.000000      1.000000  "
      ]
     },
     "execution_count": 5,
     "metadata": {},
     "output_type": "execute_result"
    }
   ],
   "source": [
    "data.describe()"
   ]
  },
  {
   "cell_type": "code",
   "execution_count": 6,
   "id": "e8d029c3",
   "metadata": {},
   "outputs": [
    {
     "data": {
      "text/plain": [
       "age               0\n",
       "fnlwgt            0\n",
       "education_num     0\n",
       "capital_gain      0\n",
       "capital_loss      0\n",
       "hours_per_week    0\n",
       "income_level      0\n",
       "dtype: int64"
      ]
     },
     "execution_count": 6,
     "metadata": {},
     "output_type": "execute_result"
    }
   ],
   "source": [
    "data.isnull().sum()"
   ]
  },
  {
   "cell_type": "code",
   "execution_count": 7,
   "id": "8976f97a",
   "metadata": {},
   "outputs": [
    {
     "data": {
      "text/plain": [
       "age                  74\n",
       "fnlwgt            28523\n",
       "education_num        16\n",
       "capital_gain        123\n",
       "capital_loss         99\n",
       "hours_per_week       96\n",
       "income_level          2\n",
       "dtype: int64"
      ]
     },
     "execution_count": 7,
     "metadata": {},
     "output_type": "execute_result"
    }
   ],
   "source": [
    "data.nunique()"
   ]
  },
  {
   "cell_type": "code",
   "execution_count": 8,
   "id": "dd9a5718",
   "metadata": {},
   "outputs": [
    {
     "data": {
      "text/plain": [
       "<AxesSubplot:>"
      ]
     },
     "execution_count": 8,
     "metadata": {},
     "output_type": "execute_result"
    },
    {
     "data": {
      "image/png": "[encoded data removed]",
      "text/plain": [
       "<Figure size 576x432 with 2 Axes>"
      ]
     },
     "metadata": {
      "needs_background": "light"
     },
     "output_type": "display_data"
    }
   ],
   "source": [
    "plt.figure(figsize=(8,6))\n",
    "sns.heatmap(data.corr())"
   ]
  },
  {
   "cell_type": "code",
   "execution_count": 10,
   "id": "fe6bcd54",
   "metadata": {
    "scrolled": true
   },
   "outputs": [
    {
     "data": {
      "image/png": "[encoded data removed]",
      "text/plain": [
       "<Figure size 432x288 with 1 Axes>"
      ]
     },
     "metadata": {
      "needs_background": "light"
     },
     "output_type": "display_data"
    }
   ],
   "source": [
    "sns.scatterplot(x=\"age\", y=\"fnlwgt\", data=data,hue = 'income_level');"
   ]
  },
  {
   "cell_type": "code",
   "execution_count": 11,
   "id": "071ca80b",
   "metadata": {},
   "outputs": [
    {
     "data": {
      "text/plain": [
       "Index(['age', 'fnlwgt', 'education_num', 'capital_gain', 'capital_loss',\n",
       "       'hours_per_week', 'income_level'],\n",
       "      dtype='object')"
      ]
     },
     "execution_count": 11,
     "metadata": {},
     "output_type": "execute_result"
    }
   ],
   "source": [
    "data.columns"
   ]
  },
  {
   "cell_type": "code",
   "execution_count": 12,
   "id": "990b2a64",
   "metadata": {},
   "outputs": [],
   "source": [
    "features = ['age', 'education_num', 'capital_gain', 'capital_loss','hours_per_week', 'income_level']\n",
    "response = [\"fnlwgt\"]\n",
    "X=data[features].values\n",
    "y=data[response].values"
   ]
  },
  {
   "cell_type": "markdown",
   "id": "d02567c7",
   "metadata": {},
   "source": [
    "## Linear Regression"
   ]
  },
  {
   "cell_type": "code",
   "execution_count": 21,
   "id": "0c7de468",
   "metadata": {},
   "outputs": [],
   "source": [
    "from sklearn.linear_model import LinearRegression\n",
    "from sklearn.model_selection import train_test_split"
   ]
  },
  {
   "cell_type": "code",
   "execution_count": 22,
   "id": "0418e8ff",
   "metadata": {},
   "outputs": [],
   "source": [
    "X_train, X_test, y_train, y_test = train_test_split(X, y, test_size=0.3, random_state=0)"
   ]
  },
  {
   "cell_type": "code",
   "execution_count": 23,
   "id": "8e61ff09",
   "metadata": {},
   "outputs": [],
   "source": [
    "model = LinearRegression()"
   ]
  },
  {
   "cell_type": "code",
   "execution_count": 24,
   "id": "f77e2468",
   "metadata": {},
   "outputs": [],
   "source": [
    "model = model.fit(X_train,y_train)"
   ]
  },
  {
   "cell_type": "code",
   "execution_count": 25,
   "id": "efa28ca7",
   "metadata": {},
   "outputs": [
    {
     "name": "stdout",
     "output_type": "stream",
     "text": [
      "[[-6.07560656e+02 -1.91641258e+03  7.20982533e-02  1.73538122e+00\n",
      "  -9.16026643e+01  6.57285349e+03]]\n",
      "[233981.80784325]\n"
     ]
    }
   ],
   "source": [
    "print(model.coef_)\n",
    "print(model.intercept_)"
   ]
  },
  {
   "cell_type": "code",
   "execution_count": 18,
   "id": "cb992477",
   "metadata": {},
   "outputs": [
    {
     "data": {
      "text/html": [
       "<table class=\"simpletable\">\n",
       "<caption>OLS Regression Results</caption>\n",
       "<tr>\n",
       "  <th>Dep. Variable:</th>            <td>y</td>        <th>  R-squared:         </th>  <td>   0.008</td>  \n",
       "</tr>\n",
       "<tr>\n",
       "  <th>Model:</th>                   <td>OLS</td>       <th>  Adj. R-squared:    </th>  <td>   0.008</td>  \n",
       "</tr>\n",
       "<tr>\n",
       "  <th>Method:</th>             <td>Least Squares</td>  <th>  F-statistic:       </th>  <td>   44.80</td>  \n",
       "</tr>\n",
       "<tr>\n",
       "  <th>Date:</th>             <td>Tue, 20 Sep 2022</td> <th>  Prob (F-statistic):</th>  <td>6.57e-55</td>  \n",
       "</tr>\n",
       "<tr>\n",
       "  <th>Time:</th>                 <td>16:09:22</td>     <th>  Log-Likelihood:    </th> <td>-4.4369e+05</td>\n",
       "</tr>\n",
       "<tr>\n",
       "  <th>No. Observations:</th>      <td> 34189</td>      <th>  AIC:               </th>  <td>8.874e+05</td> \n",
       "</tr>\n",
       "<tr>\n",
       "  <th>Df Residuals:</th>          <td> 34182</td>      <th>  BIC:               </th>  <td>8.875e+05</td> \n",
       "</tr>\n",
       "<tr>\n",
       "  <th>Df Model:</th>              <td>     6</td>      <th>                     </th>      <td> </td>     \n",
       "</tr>\n",
       "<tr>\n",
       "  <th>Covariance Type:</th>      <td>nonrobust</td>    <th>                     </th>      <td> </td>     \n",
       "</tr>\n",
       "</table>\n",
       "<table class=\"simpletable\">\n",
       "<tr>\n",
       "    <td></td>       <th>coef</th>     <th>std err</th>      <th>t</th>      <th>P>|t|</th>  <th>[0.025</th>    <th>0.975]</th>  \n",
       "</tr>\n",
       "<tr>\n",
       "  <th>const</th> <td>  2.34e+05</td> <td> 3306.138</td> <td>   70.772</td> <td> 0.000</td> <td> 2.28e+05</td> <td>  2.4e+05</td>\n",
       "</tr>\n",
       "<tr>\n",
       "  <th>x1</th>    <td> -607.5607</td> <td>   42.549</td> <td>  -14.279</td> <td> 0.000</td> <td> -690.958</td> <td> -524.163</td>\n",
       "</tr>\n",
       "<tr>\n",
       "  <th>x2</th>    <td>-1916.4126</td> <td>  235.433</td> <td>   -8.140</td> <td> 0.000</td> <td>-2377.868</td> <td>-1454.957</td>\n",
       "</tr>\n",
       "<tr>\n",
       "  <th>x3</th>    <td>    0.0721</td> <td>    0.078</td> <td>    0.922</td> <td> 0.356</td> <td>   -0.081</td> <td>    0.225</td>\n",
       "</tr>\n",
       "<tr>\n",
       "  <th>x4</th>    <td>    1.7354</td> <td>    1.430</td> <td>    1.214</td> <td> 0.225</td> <td>   -1.067</td> <td>    4.538</td>\n",
       "</tr>\n",
       "<tr>\n",
       "  <th>x5</th>    <td>  -91.6027</td> <td>   46.770</td> <td>   -1.959</td> <td> 0.050</td> <td> -183.274</td> <td>    0.069</td>\n",
       "</tr>\n",
       "<tr>\n",
       "  <th>x6</th>    <td> 6572.8535</td> <td> 1503.983</td> <td>    4.370</td> <td> 0.000</td> <td> 3624.996</td> <td> 9520.711</td>\n",
       "</tr>\n",
       "</table>\n",
       "<table class=\"simpletable\">\n",
       "<tr>\n",
       "  <th>Omnibus:</th>       <td>10675.722</td> <th>  Durbin-Watson:     </th> <td>   1.985</td> \n",
       "</tr>\n",
       "<tr>\n",
       "  <th>Prob(Omnibus):</th>  <td> 0.000</td>   <th>  Jarque-Bera (JB):  </th> <td>58589.021</td>\n",
       "</tr>\n",
       "<tr>\n",
       "  <th>Skew:</th>           <td> 1.399</td>   <th>  Prob(JB):          </th> <td>    0.00</td> \n",
       "</tr>\n",
       "<tr>\n",
       "  <th>Kurtosis:</th>       <td> 8.770</td>   <th>  Cond. No.          </th> <td>4.46e+04</td> \n",
       "</tr>\n",
       "</table><br/><br/>Notes:<br/>[1] Standard Errors assume that the covariance matrix of the errors is correctly specified.<br/>[2] The condition number is large, 4.46e+04. This might indicate that there are<br/>strong multicollinearity or other numerical problems."
      ],
      "text/plain": [
       "<class 'statsmodels.iolib.summary.Summary'>\n",
       "\"\"\"\n",
       "                            OLS Regression Results                            \n",
       "==============================================================================\n",
       "Dep. Variable:                      y   R-squared:                       0.008\n",
       "Model:                            OLS   Adj. R-squared:                  0.008\n",
       "Method:                 Least Squares   F-statistic:                     44.80\n",
       "Date:                Tue, 20 Sep 2022   Prob (F-statistic):           6.57e-55\n",
       "Time:                        16:09:22   Log-Likelihood:            -4.4369e+05\n",
       "No. Observations:               34189   AIC:                         8.874e+05\n",
       "Df Residuals:                   34182   BIC:                         8.875e+05\n",
       "Df Model:                           6                                         \n",
       "Covariance Type:            nonrobust                                         \n",
       "==============================================================================\n",
       "                 coef    std err          t      P>|t|      [0.025      0.975]\n",
       "------------------------------------------------------------------------------\n",
       "const        2.34e+05   3306.138     70.772      0.000    2.28e+05     2.4e+05\n",
       "x1          -607.5607     42.549    -14.279      0.000    -690.958    -524.163\n",
       "x2         -1916.4126    235.433     -8.140      0.000   -2377.868   -1454.957\n",
       "x3             0.0721      0.078      0.922      0.356      -0.081       0.225\n",
       "x4             1.7354      1.430      1.214      0.225      -1.067       4.538\n",
       "x5           -91.6027     46.770     -1.959      0.050    -183.274       0.069\n",
       "x6          6572.8535   1503.983      4.370      0.000    3624.996    9520.711\n",
       "==============================================================================\n",
       "Omnibus:                    10675.722   Durbin-Watson:                   1.985\n",
       "Prob(Omnibus):                  0.000   Jarque-Bera (JB):            58589.021\n",
       "Skew:                           1.399   Prob(JB):                         0.00\n",
       "Kurtosis:                       8.770   Cond. No.                     4.46e+04\n",
       "==============================================================================\n",
       "\n",
       "Notes:\n",
       "[1] Standard Errors assume that the covariance matrix of the errors is correctly specified.\n",
       "[2] The condition number is large, 4.46e+04. This might indicate that there are\n",
       "strong multicollinearity or other numerical problems.\n",
       "\"\"\""
      ]
     },
     "execution_count": 18,
     "metadata": {},
     "output_type": "execute_result"
    }
   ],
   "source": [
    "import statsmodels.api as sm\n",
    "X_with_constant = sm.add_constant(X_train)\n",
    "model = sm.OLS(y_train, X_with_constant)\n",
    "results = model.fit()\n",
    "results.params\n",
    "results.summary()"
   ]
  },
  {
   "cell_type": "code",
   "execution_count": 26,
   "id": "c3080952",
   "metadata": {},
   "outputs": [],
   "source": [
    "y_pred = model.predict(X_train)"
   ]
  },
  {
   "cell_type": "code",
   "execution_count": 27,
   "id": "38d5097b",
   "metadata": {},
   "outputs": [],
   "source": [
    "y_predict = model.predict(X_test)"
   ]
  },
  {
   "cell_type": "code",
   "execution_count": 28,
   "id": "3a69c335",
   "metadata": {},
   "outputs": [
    {
     "name": "stdout",
     "output_type": "stream",
     "text": [
      "MSE: 10960270771.00\n",
      "RMSE: 104691.31\n",
      "R^2: 0.01\n"
     ]
    }
   ],
   "source": [
    "from sklearn.metrics import mean_squared_error,r2_score\n",
    "print('MSE: %.2f' % mean_squared_error(y_train, y_pred))\n",
    "print('RMSE: %.2f' % np.sqrt(mean_squared_error(y_train, y_pred)))\n",
    "print('R^2: %.2f' % r2_score(y_train, y_pred))"
   ]
  },
  {
   "cell_type": "code",
   "execution_count": 29,
   "id": "8c89e70e",
   "metadata": {},
   "outputs": [
    {
     "name": "stdout",
     "output_type": "stream",
     "text": [
      "MSE: 11308383736.76\n",
      "RMSE: 106340.88\n",
      "R^2: 0.01\n"
     ]
    }
   ],
   "source": [
    "from sklearn.metrics import mean_squared_error,r2_score\n",
    "print('MSE: %.2f' % mean_squared_error(y_test, y_predict))\n",
    "print('RMSE: %.2f' % np.sqrt(mean_squared_error(y_test, y_predict)))\n",
    "print('R^2: %.2f' % r2_score(y_test, y_predict))"
   ]
  },
  {
   "cell_type": "markdown",
   "id": "584a0ab6",
   "metadata": {},
   "source": [
    "## Standardization"
   ]
  },
  {
   "cell_type": "code",
   "execution_count": 30,
   "id": "5337ff5e",
   "metadata": {},
   "outputs": [],
   "source": [
    "from sklearn.preprocessing import StandardScaler\n",
    "sc_X = StandardScaler()\n",
    "X_strain = sc_X.fit_transform(X_train)\n",
    "X_stest = sc_X.transform(X_test)\n",
    "sc_y = StandardScaler()\n",
    "y_strain = sc_y.fit_transform(y_train)\n",
    "y_stest = sc_y.transform(y_test)"
   ]
  },
  {
   "cell_type": "code",
   "execution_count": 31,
   "id": "6899c6b9",
   "metadata": {},
   "outputs": [
    {
     "name": "stdout",
     "output_type": "stream",
     "text": [
      "[[-0.07919845 -0.04683198  0.0051193   0.00662741 -0.01087852  0.02674065]]\n",
      "[-1.4478022e-16]\n"
     ]
    }
   ],
   "source": [
    "#using sklearn method\n",
    "from sklearn import linear_model\n",
    "model = linear_model.LinearRegression()\n",
    "model.fit(X_strain,y_strain)\n",
    "print(model.coef_)\n",
    "print(model.intercept_)"
   ]
  },
  {
   "cell_type": "code",
   "execution_count": 32,
   "id": "0e770296",
   "metadata": {},
   "outputs": [],
   "source": [
    "y_pred = model.predict(X_strain)"
   ]
  },
  {
   "cell_type": "code",
   "execution_count": 33,
   "id": "64ae5519",
   "metadata": {},
   "outputs": [
    {
     "name": "stdout",
     "output_type": "stream",
     "text": [
      "MSE: 0.99\n",
      "RMSE: 1.00\n",
      "R^2: 0.01\n"
     ]
    }
   ],
   "source": [
    "from sklearn.metrics import mean_squared_error,r2_score\n",
    "print('MSE: %.2f' % mean_squared_error(y_strain, y_pred))\n",
    "print('RMSE: %.2f' % np.sqrt(mean_squared_error(y_strain, y_pred)))\n",
    "print('R^2: %.2f' % r2_score(y_strain, y_pred))"
   ]
  },
  {
   "cell_type": "code",
   "execution_count": 34,
   "id": "ed7871e0",
   "metadata": {},
   "outputs": [],
   "source": [
    "test_predict = model.predict(X_stest)\n",
    "test_actual = y_stest"
   ]
  },
  {
   "cell_type": "code",
   "execution_count": 35,
   "id": "e8e1b933",
   "metadata": {},
   "outputs": [
    {
     "name": "stdout",
     "output_type": "stream",
     "text": [
      "MSE: 1.02\n",
      "RMSE: 1.01\n",
      "R^2: 0.01\n"
     ]
    }
   ],
   "source": [
    "print('MSE: %.2f' % mean_squared_error(test_actual, test_predict))\n",
    "print('RMSE: %.2f' % np.sqrt(mean_squared_error(test_actual, test_predict)))\n",
    "print('R^2: %.2f' % r2_score(test_actual, test_predict))"
   ]
  },
  {
   "cell_type": "markdown",
   "id": "05ee39e6",
   "metadata": {},
   "source": [
    "## Normalization"
   ]
  },
  {
   "cell_type": "code",
   "execution_count": 36,
   "id": "3896b162",
   "metadata": {},
   "outputs": [],
   "source": [
    "from sklearn.preprocessing import MinMaxScaler\n",
    "# define min max scaler\n",
    "sc_X = MinMaxScaler()\n",
    "X_ntrain = sc_X.fit_transform(X_train)\n",
    "X_ntest = sc_X.transform(X_test)\n",
    "sc_y = MinMaxScaler()\n",
    "y_ntrain = sc_y.fit_transform(y_train)\n",
    "y_ntest = sc_y.transform(y_test)"
   ]
  },
  {
   "cell_type": "code",
   "execution_count": 37,
   "id": "74afd4e5",
   "metadata": {},
   "outputs": [
    {
     "name": "stdout",
     "output_type": "stream",
     "text": [
      "[[-0.03000574 -0.01944787  0.00487767  0.00511416 -0.00607332  0.00444678]]\n",
      "[0.14164004]\n"
     ]
    }
   ],
   "source": [
    "#using sklearn method\n",
    "from sklearn import linear_model\n",
    "reg = linear_model.LinearRegression()\n",
    "reg.fit(X_ntrain,y_ntrain)\n",
    "print(reg.coef_)\n",
    "print(reg.intercept_)"
   ]
  },
  {
   "cell_type": "code",
   "execution_count": 38,
   "id": "3ffdba3a",
   "metadata": {},
   "outputs": [],
   "source": [
    "y_pred = reg.predict(X_ntrain)"
   ]
  },
  {
   "cell_type": "code",
   "execution_count": 39,
   "id": "412f9f6b",
   "metadata": {},
   "outputs": [
    {
     "name": "stdout",
     "output_type": "stream",
     "text": [
      "MSE: 0.01\n",
      "RMSE: 0.07\n",
      "R^2: 0.01\n"
     ]
    }
   ],
   "source": [
    "from sklearn.metrics import mean_squared_error,r2_score\n",
    "print('MSE: %.2f' % mean_squared_error(y_ntrain, y_pred))\n",
    "print('RMSE: %.2f' % np.sqrt(mean_squared_error(y_ntrain, y_pred)))\n",
    "print('R^2: %.2f' % r2_score(y_ntrain, y_pred))"
   ]
  },
  {
   "cell_type": "code",
   "execution_count": 40,
   "id": "569d0419",
   "metadata": {},
   "outputs": [],
   "source": [
    "y_predict = reg.predict(X_ntest)"
   ]
  },
  {
   "cell_type": "code",
   "execution_count": 41,
   "id": "777c4c23",
   "metadata": {},
   "outputs": [
    {
     "name": "stdout",
     "output_type": "stream",
     "text": [
      "MSE: 0.01\n",
      "RMSE: 0.07\n",
      "R^2: 0.01\n"
     ]
    }
   ],
   "source": [
    "from sklearn.metrics import mean_squared_error,r2_score\n",
    "print('MSE: %.2f' % mean_squared_error(y_ntest, y_predict))\n",
    "print('RMSE: %.2f' % np.sqrt(mean_squared_error(y_ntest, y_predict)))\n",
    "print('R^2: %.2f' % r2_score(y_ntest, y_predict))"
   ]
  },
  {
   "cell_type": "markdown",
   "id": "8e077a2b",
   "metadata": {},
   "source": [
    "## Lasso"
   ]
  },
  {
   "cell_type": "code",
   "execution_count": 42,
   "id": "e03e0d5c",
   "metadata": {},
   "outputs": [],
   "source": [
    "# Using Lasso (L1 Regularized) Regression Model\n",
    "from sklearn import linear_model\n",
    "lasso_reg = linear_model.Lasso(alpha=50, max_iter=100, tol=0.1)\n",
    "lasso_reg.fit(X_train, y_train)\n",
    "y_pred = lasso_reg.predict(X_train)"
   ]
  },
  {
   "cell_type": "code",
   "execution_count": 43,
   "id": "a4f606d7",
   "metadata": {},
   "outputs": [
    {
     "name": "stdout",
     "output_type": "stream",
     "text": [
      "MSE :   10960290902.315664\n",
      "RMSE:  104691.40796796871\n",
      "R2  :  0.007800224982831061\n"
     ]
    }
   ],
   "source": [
    "print('MSE :  ',mean_squared_error(y_train,y_pred))\n",
    "print('RMSE: ',np.sqrt(mean_squared_error(y_train,y_pred)))\n",
    "print('R2  : ',r2_score(y_train, y_pred))"
   ]
  },
  {
   "cell_type": "code",
   "execution_count": 44,
   "id": "2c146d15",
   "metadata": {},
   "outputs": [],
   "source": [
    "y_predict = lasso_reg.predict(X_test)"
   ]
  },
  {
   "cell_type": "code",
   "execution_count": 45,
   "id": "7c6d7a42",
   "metadata": {},
   "outputs": [
    {
     "name": "stdout",
     "output_type": "stream",
     "text": [
      "MSE :   11308540912.361326\n",
      "RMSE:   106341.6236116476\n",
      "R2  :   0.007771732339912019\n"
     ]
    }
   ],
   "source": [
    "print('MSE :  ',mean_squared_error(y_test,y_predict))\n",
    "print('RMSE:  ',np.sqrt(mean_squared_error(y_test,y_predict)))\n",
    "print('R2  :  ',r2_score(y_test, y_predict))"
   ]
  },
  {
   "cell_type": "markdown",
   "id": "e7ae72ca",
   "metadata": {},
   "source": [
    "## Ridge"
   ]
  },
  {
   "cell_type": "code",
   "execution_count": 46,
   "id": "0af3a81f",
   "metadata": {},
   "outputs": [],
   "source": [
    "# Using Ridge (L2 Regularized) Regression Model\n",
    "from sklearn.linear_model import Ridge\n",
    "ridge_reg= Ridge(alpha=50, max_iter=100, tol=0.1)\n",
    "ridge_reg.fit(X_train, y_train)\n",
    "y_pred = ridge_reg.predict(X_train)"
   ]
  },
  {
   "cell_type": "code",
   "execution_count": 47,
   "id": "0c4aac78",
   "metadata": {},
   "outputs": [
    {
     "name": "stdout",
     "output_type": "stream",
     "text": [
      "MSE :   10960271429.048805\n",
      "RMSE:  104691.31496475152\n",
      "R2  :  0.00780198783485464\n"
     ]
    }
   ],
   "source": [
    "print('MSE :  ',mean_squared_error(y_train,y_pred))\n",
    "print('RMSE: ',np.sqrt(mean_squared_error(y_train,y_pred)))\n",
    "print('R2  : ',r2_score(y_train, y_pred))"
   ]
  },
  {
   "cell_type": "code",
   "execution_count": 48,
   "id": "9dfb16be",
   "metadata": {},
   "outputs": [],
   "source": [
    "y_predict = ridge_reg.predict(X_test)"
   ]
  },
  {
   "cell_type": "code",
   "execution_count": 49,
   "id": "e72477dd",
   "metadata": {},
   "outputs": [
    {
     "name": "stdout",
     "output_type": "stream",
     "text": [
      "MSE :   11308414056.462563\n",
      "RMSE:   106341.0271553861\n",
      "R2  :   0.00778286286591412\n"
     ]
    }
   ],
   "source": [
    "print('MSE :  ',mean_squared_error(y_test,y_predict))\n",
    "print('RMSE:  ',np.sqrt(mean_squared_error(y_test,y_predict)))\n",
    "print('R2  :  ',r2_score(y_test, y_predict))"
   ]
  },
  {
   "cell_type": "markdown",
   "id": "1dfdbb2e",
   "metadata": {},
   "source": [
    "## Polynomial"
   ]
  },
  {
   "cell_type": "code",
   "execution_count": 50,
   "id": "14199be8",
   "metadata": {},
   "outputs": [],
   "source": [
    "from sklearn.model_selection import train_test_split\n",
    "X_train, X_test, y_train, y_test = train_test_split(X, y, test_size=0.3, random_state=0)"
   ]
  },
  {
   "cell_type": "code",
   "execution_count": 51,
   "id": "c53c6efa",
   "metadata": {},
   "outputs": [
    {
     "data": {
      "text/plain": [
       "LinearRegression()"
      ]
     },
     "execution_count": 51,
     "metadata": {},
     "output_type": "execute_result"
    }
   ],
   "source": [
    "#Fit the Simple Linear Regression Model\n",
    "from sklearn.linear_model import LinearRegression\n",
    "LinReg = LinearRegression()\n",
    "LinReg.fit(X_train, y_train)"
   ]
  },
  {
   "cell_type": "code",
   "execution_count": 52,
   "id": "a0f31dd4",
   "metadata": {},
   "outputs": [
    {
     "data": {
      "text/plain": [
       "array([[1.000e+00, 4.300e+01, 1.000e+01, ..., 1.600e+03, 0.000e+00,\n",
       "        0.000e+00],\n",
       "       [1.000e+00, 4.100e+01, 9.000e+00, ..., 1.600e+03, 0.000e+00,\n",
       "        0.000e+00],\n",
       "       [1.000e+00, 3.200e+01, 1.000e+01, ..., 1.600e+03, 0.000e+00,\n",
       "        0.000e+00],\n",
       "       ...,\n",
       "       [1.000e+00, 4.100e+01, 1.000e+01, ..., 3.600e+03, 6.000e+01,\n",
       "        1.000e+00],\n",
       "       [1.000e+00, 4.700e+01, 1.300e+01, ..., 1.600e+03, 4.000e+01,\n",
       "        1.000e+00],\n",
       "       [1.000e+00, 2.500e+01, 1.000e+01, ..., 2.304e+03, 0.000e+00,\n",
       "        0.000e+00]])"
      ]
     },
     "execution_count": 52,
     "metadata": {},
     "output_type": "execute_result"
    }
   ],
   "source": [
    "# Add the polynomial term to the equation/model\n",
    "from sklearn.preprocessing import PolynomialFeatures \n",
    "  \n",
    "polynom = PolynomialFeatures(degree = 2) \n",
    "X_polynom = polynom.fit_transform(X_train) \n",
    "  \n",
    "X_polynom"
   ]
  },
  {
   "cell_type": "code",
   "execution_count": 53,
   "id": "be5b42b5",
   "metadata": {},
   "outputs": [
    {
     "data": {
      "text/plain": [
       "LinearRegression()"
      ]
     },
     "execution_count": 53,
     "metadata": {},
     "output_type": "execute_result"
    }
   ],
   "source": [
    "#Fit the Polynomial Regression Model \n",
    "PolyReg = LinearRegression() \n",
    "PolyReg.fit(X_polynom, y_train) "
   ]
  },
  {
   "cell_type": "code",
   "execution_count": 54,
   "id": "fd26b429",
   "metadata": {},
   "outputs": [
    {
     "name": "stdout",
     "output_type": "stream",
     "text": [
      "10960270770.995852\n",
      "104691.31182192652\n",
      "0.007802047406265555\n"
     ]
    }
   ],
   "source": [
    "y_predict_slr = LinReg.predict(X_train)\n",
    "\n",
    "from sklearn import metrics\n",
    "print(mean_squared_error(y_train,y_predict_slr))\n",
    "print(np.sqrt(mean_squared_error(y_train,y_predict_slr)))\n",
    "print(r2_score(y_train,y_predict_slr))"
   ]
  },
  {
   "cell_type": "code",
   "execution_count": 55,
   "id": "56daf34b",
   "metadata": {},
   "outputs": [
    {
     "name": "stdout",
     "output_type": "stream",
     "text": [
      "R-Square of Polynomial Regression is: 0.011051313583957945\n"
     ]
    }
   ],
   "source": [
    "y_predict_pr = PolyReg.predict(polynom.fit_transform(X_test))\n",
    "\n",
    "from sklearn import metrics\n",
    "r_square = metrics.r2_score(y_test, y_predict_pr)\n",
    "print('R-Square of Polynomial Regression is:', r_square)"
   ]
  },
  {
   "cell_type": "code",
   "execution_count": 56,
   "id": "535c6484",
   "metadata": {},
   "outputs": [
    {
     "name": "stdout",
     "output_type": "stream",
     "text": [
      "MSE :   11271163143.673918\n",
      "RMSE:   106165.73431985444\n",
      "R2  :   0.011051313583957945\n"
     ]
    }
   ],
   "source": [
    "print('MSE :  ',mean_squared_error(y_test,y_predict_pr))\n",
    "print('RMSE:  ',np.sqrt(mean_squared_error(y_test,y_predict_pr)))\n",
    "print('R2  :  ',r2_score(y_test,y_predict_pr))"
   ]
  },
  {
   "cell_type": "markdown",
   "id": "ec0978ab",
   "metadata": {},
   "source": [
    "## Logestic Regression"
   ]
  },
  {
   "cell_type": "code",
   "execution_count": 60,
   "id": "ecab41e7",
   "metadata": {},
   "outputs": [],
   "source": [
    "data = pd.read_csv('C:/Users/signi/Downloads/income.csv')"
   ]
  },
  {
   "cell_type": "code",
   "execution_count": 61,
   "id": "2d5a9f99",
   "metadata": {},
   "outputs": [
    {
     "data": {
      "text/plain": [
       "Index(['age', 'fnlwgt', 'education_num', 'capital_gain', 'capital_loss',\n",
       "       'hours_per_week', 'income_level'],\n",
       "      dtype='object')"
      ]
     },
     "execution_count": 61,
     "metadata": {},
     "output_type": "execute_result"
    }
   ],
   "source": [
    "data.columns"
   ]
  },
  {
   "cell_type": "code",
   "execution_count": 62,
   "id": "eb1da6e3",
   "metadata": {},
   "outputs": [],
   "source": [
    "features = ['age','fnlwgt','education_num', 'capital_gain', 'capital_loss','hours_per_week']\n",
    "response = [\"income_level\"]\n",
    "X=data[features].values\n",
    "y=data[response].values"
   ]
  },
  {
   "cell_type": "code",
   "execution_count": 63,
   "id": "d5350d3f",
   "metadata": {},
   "outputs": [],
   "source": [
    "from sklearn.model_selection import train_test_split\n",
    "X_train, X_test, y_train, y_test = train_test_split(X, y, test_size=0.30, random_state=50)"
   ]
  },
  {
   "cell_type": "code",
   "execution_count": 65,
   "id": "24da76e8",
   "metadata": {},
   "outputs": [
    {
     "name": "stdout",
     "output_type": "stream",
     "text": [
      "Train roc - auc: 0.6117807096979949\n",
      "Test roc - auc: 0.6117237586138888\n"
     ]
    },
    {
     "name": "stderr",
     "output_type": "stream",
     "text": [
      "C:\\Users\\signi\\anaconda3\\lib\\site-packages\\sklearn\\utils\\validation.py:993: DataConversionWarning: A column-vector y was passed when a 1d array was expected. Please change the shape of y to (n_samples, ), for example using ravel().\n",
      "  y = column_or_1d(y, warn=True)\n"
     ]
    }
   ],
   "source": [
    "from sklearn.metrics import roc_auc_score\n",
    "from sklearn.metrics import roc_curve\n",
    "from sklearn.linear_model import LogisticRegression\n",
    "logmodel = LogisticRegression(random_state=50)\n",
    "logmodel.fit(X_train,y_train)\n",
    "ytrain_pred = logmodel.predict(X_train)\n",
    "print('Train roc - auc: {}'.format(roc_auc_score(y_train,ytrain_pred)))\n",
    "#Predict the value for new, unseen data\n",
    "ytest_pred = logmodel.predict(X_test)\n",
    "print('Test roc - auc: {}'.format(roc_auc_score(y_test,ytest_pred)))\n",
    "# pred"
   ]
  },
  {
   "cell_type": "code",
   "execution_count": 70,
   "id": "d30b8406",
   "metadata": {},
   "outputs": [
    {
     "name": "stdout",
     "output_type": "stream",
     "text": [
      "              precision    recall  f1-score   support\n",
      "\n",
      "           0       0.81      0.97      0.88     26109\n",
      "           1       0.71      0.26      0.38      8080\n",
      "\n",
      "    accuracy                           0.80     34189\n",
      "   macro avg       0.76      0.61      0.63     34189\n",
      "weighted avg       0.79      0.80      0.76     34189\n",
      "\n"
     ]
    }
   ],
   "source": [
    "from sklearn.metrics import classification_report\n",
    "print(classification_report(y_train,ytrain_pred))"
   ]
  },
  {
   "cell_type": "code",
   "execution_count": 68,
   "id": "24b0a778",
   "metadata": {},
   "outputs": [
    {
     "name": "stdout",
     "output_type": "stream",
     "text": [
      "              precision    recall  f1-score   support\n",
      "\n",
      "           0       0.80      0.97      0.88     11046\n",
      "           1       0.73      0.25      0.38      3607\n",
      "\n",
      "    accuracy                           0.79     14653\n",
      "   macro avg       0.76      0.61      0.63     14653\n",
      "weighted avg       0.78      0.79      0.75     14653\n",
      "\n"
     ]
    }
   ],
   "source": [
    "from sklearn.metrics import classification_report\n",
    "print(classification_report(y_test,ytest_pred))"
   ]
  },
  {
   "cell_type": "code",
   "execution_count": 72,
   "id": "1dfd27a3",
   "metadata": {},
   "outputs": [
    {
     "data": {
      "text/plain": [
       "array([[10706,   340],\n",
       "       [ 2690,   917]], dtype=int64)"
      ]
     },
     "execution_count": 72,
     "metadata": {},
     "output_type": "execute_result"
    }
   ],
   "source": [
    "#Generate confusion matrix\n",
    "from sklearn.metrics import confusion_matrix\n",
    "conf_mat = confusion_matrix(y_test,ytest_pred)\n",
    "conf_mat"
   ]
  },
  {
   "cell_type": "code",
   "execution_count": 73,
   "id": "9a513536",
   "metadata": {},
   "outputs": [
    {
     "data": {
      "image/png": "[encoded data removed]",
      "text/plain": [
       "<Figure size 432x288 with 2 Axes>"
      ]
     },
     "metadata": {
      "needs_background": "light"
     },
     "output_type": "display_data"
    }
   ],
   "source": [
    "import seaborn as sn\n",
    "conf_mat = confusion_matrix(y_test,ytest_pred)\n",
    "sn.heatmap(conf_mat, annot=True)\n",
    "plt.show()"
   ]
  },
  {
   "cell_type": "code",
   "execution_count": 74,
   "id": "fa53d181",
   "metadata": {},
   "outputs": [
    {
     "data": {
      "image/png": "[encoded data removed]",
      "text/plain": [
       "<Figure size 432x288 with 1 Axes>"
      ]
     },
     "metadata": {
      "needs_background": "light"
     },
     "output_type": "display_data"
    }
   ],
   "source": [
    "#Generate AUC-ROC curve\n",
    "from sklearn.metrics import roc_auc_score\n",
    "from sklearn.metrics import roc_curve\n",
    "logit_roc_auc = roc_auc_score(y_test, logmodel.predict(X_test))\n",
    "fpr, tpr, thresholds = roc_curve(y_test, logmodel.predict_proba(X_test)[:,1])\n",
    "plt.figure()\n",
    "plt.plot(fpr, tpr, label='Logistic Regression (area = %0.2f)' % logit_roc_auc)\n",
    "plt.plot([0, 1], [0, 1],'r--')\n",
    "plt.xlim([0.0, 1.0])\n",
    "plt.ylim([0.0, 1.05])\n",
    "plt.xlabel('False Positive Rate')\n",
    "plt.ylabel('True Positive Rate')\n",
    "plt.title('Receiver Operating Characteristic')\n",
    "plt.legend(loc=\"lower right\")\n",
    "# plt.savefig('Log_ROC')\n",
    "plt.show()"
   ]
  },
  {
   "cell_type": "code",
   "execution_count": 75,
   "id": "612da903",
   "metadata": {},
   "outputs": [
    {
     "name": "stdout",
     "output_type": "stream",
     "text": [
      "Test roc auc:0.5787234681231461\n"
     ]
    }
   ],
   "source": [
    "    pred = []\n",
    "    for model in [logmodel]:\n",
    "        pred.append(pd.Series(model.predict_proba(X_test)[:,1]))\n",
    "    final_prediction = pd.concat(pred,axis=1).mean(axis=1)\n",
    "    print('Test roc auc:{}'.format(roc_auc_score(y_test,final_prediction)))"
   ]
  },
  {
   "cell_type": "code",
   "execution_count": 77,
   "id": "e51a7919",
   "metadata": {},
   "outputs": [
    {
     "data": {
      "text/plain": [
       "array([2.        , 1.        , 1.        , ..., 0.01221219, 0.00558165,\n",
       "       0.0025437 ])"
      ]
     },
     "execution_count": 77,
     "metadata": {},
     "output_type": "execute_result"
    }
   ],
   "source": [
    "False_pos_rate, True_pos_rate, threshold = roc_curve(y_test, final_prediction)\n",
    "threshold"
   ]
  },
  {
   "cell_type": "code",
   "execution_count": 78,
   "id": "2d507462",
   "metadata": {},
   "outputs": [
    {
     "data": {
      "text/html": [
       "<div>\n",
       "<style scoped>\n",
       "    .dataframe tbody tr th:only-of-type {\n",
       "        vertical-align: middle;\n",
       "    }\n",
       "\n",
       "    .dataframe tbody tr th {\n",
       "        vertical-align: top;\n",
       "    }\n",
       "\n",
       "    .dataframe thead th {\n",
       "        text-align: right;\n",
       "    }\n",
       "</style>\n",
       "<table border=\"1\" class=\"dataframe\">\n",
       "  <thead>\n",
       "    <tr style=\"text-align: right;\">\n",
       "      <th></th>\n",
       "      <th>threshold</th>\n",
       "      <th>accuracy</th>\n",
       "    </tr>\n",
       "  </thead>\n",
       "  <tbody>\n",
       "    <tr>\n",
       "      <th>149</th>\n",
       "      <td>0.619471</td>\n",
       "      <td>0.795264</td>\n",
       "    </tr>\n",
       "    <tr>\n",
       "      <th>151</th>\n",
       "      <td>0.617682</td>\n",
       "      <td>0.795127</td>\n",
       "    </tr>\n",
       "    <tr>\n",
       "      <th>159</th>\n",
       "      <td>0.610818</td>\n",
       "      <td>0.795127</td>\n",
       "    </tr>\n",
       "    <tr>\n",
       "      <th>153</th>\n",
       "      <td>0.616233</td>\n",
       "      <td>0.795127</td>\n",
       "    </tr>\n",
       "    <tr>\n",
       "      <th>150</th>\n",
       "      <td>0.618520</td>\n",
       "      <td>0.795127</td>\n",
       "    </tr>\n",
       "  </tbody>\n",
       "</table>\n",
       "</div>"
      ],
      "text/plain": [
       "     threshold  accuracy\n",
       "149   0.619471  0.795264\n",
       "151   0.617682  0.795127\n",
       "159   0.610818  0.795127\n",
       "153   0.616233  0.795127\n",
       "150   0.618520  0.795127"
      ]
     },
     "execution_count": 78,
     "metadata": {},
     "output_type": "execute_result"
    }
   ],
   "source": [
    "from sklearn.metrics import accuracy_score\n",
    "\n",
    "acc = []\n",
    "\n",
    "for thres in threshold:\n",
    "    y_pred = np.where(final_prediction>thres,1,0)\n",
    "    acc.append(accuracy_score(y_test,y_pred,normalize=True))\n",
    "acc = pd.concat([pd.Series(threshold), pd.Series(acc)], axis=1)\n",
    "acc.columns = ['threshold','accuracy']\n",
    "acc.sort_values(by=\"accuracy\", ascending=False, inplace = True)\n",
    "acc.head()\n"
   ]
  },
  {
   "cell_type": "code",
   "execution_count": 80,
   "id": "d323c679",
   "metadata": {},
   "outputs": [
    {
     "data": {
      "text/plain": [
       "0.6194707029651352"
      ]
     },
     "execution_count": 80,
     "metadata": {},
     "output_type": "execute_result"
    }
   ],
   "source": [
    "first_val = acc['threshold'].iat[0]\n",
    "first_val"
   ]
  },
  {
   "cell_type": "code",
   "execution_count": 81,
   "id": "300571cd",
   "metadata": {},
   "outputs": [
    {
     "name": "stderr",
     "output_type": "stream",
     "text": [
      "C:\\Users\\signi\\anaconda3\\lib\\site-packages\\sklearn\\utils\\validation.py:993: DataConversionWarning: A column-vector y was passed when a 1d array was expected. Please change the shape of y to (n_samples, ), for example using ravel().\n",
      "  y = column_or_1d(y, warn=True)\n"
     ]
    },
    {
     "data": {
      "text/html": [
       "<div>\n",
       "<style scoped>\n",
       "    .dataframe tbody tr th:only-of-type {\n",
       "        vertical-align: middle;\n",
       "    }\n",
       "\n",
       "    .dataframe tbody tr th {\n",
       "        vertical-align: top;\n",
       "    }\n",
       "\n",
       "    .dataframe thead th {\n",
       "        text-align: right;\n",
       "    }\n",
       "</style>\n",
       "<table border=\"1\" class=\"dataframe\">\n",
       "  <thead>\n",
       "    <tr style=\"text-align: right;\">\n",
       "      <th></th>\n",
       "      <th>0</th>\n",
       "    </tr>\n",
       "  </thead>\n",
       "  <tbody>\n",
       "    <tr>\n",
       "      <th>accuracy</th>\n",
       "      <td>0.784959</td>\n",
       "    </tr>\n",
       "    <tr>\n",
       "      <th>recall</th>\n",
       "      <td>0.308844</td>\n",
       "    </tr>\n",
       "    <tr>\n",
       "      <th>precision</th>\n",
       "      <td>0.628668</td>\n",
       "    </tr>\n",
       "    <tr>\n",
       "      <th>roc_auc_score</th>\n",
       "      <td>0.624637</td>\n",
       "    </tr>\n",
       "  </tbody>\n",
       "</table>\n",
       "</div>"
      ],
      "text/plain": [
       "                      0\n",
       "accuracy       0.784959\n",
       "recall         0.308844\n",
       "precision      0.628668\n",
       "roc_auc_score  0.624637"
      ]
     },
     "execution_count": 81,
     "metadata": {},
     "output_type": "execute_result"
    }
   ],
   "source": [
    "#creating model with the best threshold value\n",
    "\n",
    "from sklearn.linear_model import LogisticRegression\n",
    "from sklearn.metrics import accuracy_score, confusion_matrix, recall_score, roc_auc_score, precision_score, classification_report\n",
    "\n",
    "clf = LogisticRegression(class_weight=\"balanced\")\n",
    "clf.fit(X_train, y_train)\n",
    "\n",
    "THRESHOLD = first_val\n",
    "preds = np.where(clf.predict_proba(X_test)[:,1] > THRESHOLD, 1, 0)\n",
    "\n",
    "pd.DataFrame(data=[accuracy_score(y_test, preds), recall_score(y_test, preds), precision_score(y_test, preds), roc_auc_score(y_test, preds)], index=[\"accuracy\", \"recall\", \"precision\", \"roc_auc_score\"])"
   ]
  },
  {
   "cell_type": "markdown",
   "id": "9837b65f",
   "metadata": {},
   "source": [
    "## Model best fits with the threshold of 0.6194"
   ]
  },
  {
   "cell_type": "code",
   "execution_count": 82,
   "id": "3b7fa38e",
   "metadata": {},
   "outputs": [
    {
     "name": "stdout",
     "output_type": "stream",
     "text": [
      "              precision    recall  f1-score   support\n",
      "\n",
      "           0       0.81      0.94      0.87     11046\n",
      "           1       0.63      0.31      0.41      3607\n",
      "\n",
      "    accuracy                           0.78     14653\n",
      "   macro avg       0.72      0.62      0.64     14653\n",
      "weighted avg       0.76      0.78      0.76     14653\n",
      "\n"
     ]
    }
   ],
   "source": [
    "print(classification_report(y_test,preds))"
   ]
  },
  {
   "cell_type": "markdown",
   "id": "177d4329",
   "metadata": {},
   "source": [
    "## Decision Tree"
   ]
  },
  {
   "cell_type": "code",
   "execution_count": 114,
   "id": "c559f12b",
   "metadata": {},
   "outputs": [],
   "source": [
    "data = pd.read_csv('C:/Users/signi/Downloads/income.csv')"
   ]
  },
  {
   "cell_type": "code",
   "execution_count": 115,
   "id": "e876067a",
   "metadata": {},
   "outputs": [],
   "source": [
    "features = ['age','fnlwgt','education_num', 'capital_gain', 'capital_loss','hours_per_week']\n",
    "response = [\"income_level\"]\n",
    "X=data[features].values\n",
    "y=data[response].values"
   ]
  },
  {
   "cell_type": "code",
   "execution_count": 116,
   "id": "24509e2e",
   "metadata": {},
   "outputs": [],
   "source": [
    "from sklearn.model_selection import train_test_split\n",
    "X_train, X_test, y_train, y_test = train_test_split(X, y, test_size=0.30, random_state=50)"
   ]
  },
  {
   "cell_type": "code",
   "execution_count": 117,
   "id": "37c7ff19",
   "metadata": {},
   "outputs": [],
   "source": [
    "import numpy as np, pandas as pd, matplotlib.pyplot as plt \n",
    "from sklearn import tree, metrics, model_selection, preprocessing\n",
    "from IPython.display import Image, display"
   ]
  },
  {
   "cell_type": "code",
   "execution_count": 118,
   "id": "04120cef",
   "metadata": {},
   "outputs": [
    {
     "data": {
      "text/plain": [
       "DecisionTreeClassifier(max_depth=2)"
      ]
     },
     "execution_count": 118,
     "metadata": {},
     "output_type": "execute_result"
    }
   ],
   "source": [
    "dtree = tree.DecisionTreeClassifier( max_depth=2)\n",
    "dtree.fit(X_train, y_train)"
   ]
  },
  {
   "cell_type": "code",
   "execution_count": 119,
   "id": "4d6961e5",
   "metadata": {},
   "outputs": [],
   "source": [
    "y_pred = dtree.predict(X_train)"
   ]
  },
  {
   "cell_type": "code",
   "execution_count": 120,
   "id": "d2f7ae29",
   "metadata": {},
   "outputs": [
    {
     "name": "stdout",
     "output_type": "stream",
     "text": [
      "Accuracy: 0.81\n"
     ]
    }
   ],
   "source": [
    "accuracy = metrics.accuracy_score(y_train, y_pred)\n",
    "print('Accuracy: {:.2f}'.format(accuracy))"
   ]
  },
  {
   "cell_type": "code",
   "execution_count": 121,
   "id": "1c643bf1",
   "metadata": {},
   "outputs": [],
   "source": [
    "y_predict = dtree.predict(X_test)"
   ]
  },
  {
   "cell_type": "code",
   "execution_count": 122,
   "id": "f4fd1519",
   "metadata": {},
   "outputs": [
    {
     "name": "stdout",
     "output_type": "stream",
     "text": [
      "Accuracy: 0.80\n"
     ]
    }
   ],
   "source": [
    "accuracy = metrics.accuracy_score(y_test, y_predict)\n",
    "print('Accuracy: {:.2f}'.format(accuracy))"
   ]
  },
  {
   "cell_type": "code",
   "execution_count": 123,
   "id": "d6dacf4a",
   "metadata": {},
   "outputs": [
    {
     "name": "stdout",
     "output_type": "stream",
     "text": [
      "[[11016    30]\n",
      " [ 2920   687]]\n",
      "              precision    recall  f1-score   support\n",
      "\n",
      "           0       0.79      1.00      0.88     11046\n",
      "           1       0.96      0.19      0.32      3607\n",
      "\n",
      "    accuracy                           0.80     14653\n",
      "   macro avg       0.87      0.59      0.60     14653\n",
      "weighted avg       0.83      0.80      0.74     14653\n",
      "\n"
     ]
    }
   ],
   "source": [
    "from sklearn.metrics import classification_report, confusion_matrix\n",
    "print(confusion_matrix(y_test, y_predict))\n",
    "print(classification_report(y_test, y_predict))"
   ]
  },
  {
   "cell_type": "code",
   "execution_count": 127,
   "id": "d989e121",
   "metadata": {},
   "outputs": [
    {
     "name": "stdout",
     "output_type": "stream",
     "text": [
      "   Depth  Accuracy\n",
      "0      2    0.8054\n",
      "1      5    0.8338\n",
      "2     10    0.8469\n",
      "3     15    0.8709\n",
      "4     20    0.9089\n",
      "5     30    0.9706\n",
      "6     50    0.9987\n",
      "7    100    0.9989\n",
      "------------------------\n",
      "   Depth  Accuracy\n",
      "0      2    0.7987\n",
      "1      5    0.8287\n",
      "2     10    0.8318\n",
      "3     15    0.8202\n",
      "4     20    0.8029\n",
      "5     30    0.7861\n",
      "6     50    0.7742\n",
      "7    100    0.7757\n"
     ]
    }
   ],
   "source": [
    "L1 = []\n",
    "L2 = []\n",
    "val_range = [2,5,10,15,20,30,50,100]\n",
    "\n",
    "for i in val_range:\n",
    "    dtree = tree.DecisionTreeClassifier(max_depth=i)\n",
    "    dtree.fit(X_train,y_train)\n",
    "    y_pred = dtree.predict(X_train)\n",
    "    y_predict = dtree.predict(X_test)\n",
    "    L1.append(round(accuracy_score(y_train,y_pred),4))\n",
    "    L2.append(round(accuracy_score(y_test,y_predict),4))\n",
    "L_val = pd.concat([pd.Series(val_range),pd.Series(L1)], axis=1)\n",
    "L1_val = pd.concat([pd.Series(val_range),pd.Series(L2)], axis=1)\n",
    "L_val.columns = ['Depth','Accuracy']\n",
    "L1_val.columns = ['Depth','Accuracy']\n",
    "print(L_val)\n",
    "print('------------------------')\n",
    "print(L1_val)"
   ]
  },
  {
   "cell_type": "code",
   "execution_count": 125,
   "id": "581481db",
   "metadata": {},
   "outputs": [
    {
     "data": {
      "image/png": "[encoded data removed]",
      "text/plain": [
       "<Figure size 576x432 with 1 Axes>"
      ]
     },
     "metadata": {
      "needs_background": "light"
     },
     "output_type": "display_data"
    }
   ],
   "source": [
    "\n",
    "max_depth_list = [2,5,10,15,20,30,50,100]\n",
    "\n",
    "train = [] # Log training errors for each model\n",
    "test = [] # Log testing errors for each model\n",
    "\n",
    "for x in max_depth_list:\n",
    "    dtree = tree.DecisionTreeClassifier(max_depth=x) \n",
    "    dtree.fit(X_train,y_train)\n",
    "    pred = dtree.predict(X_train)\n",
    "    predict = dtree.predict(X_test)\n",
    "    train.append(accuracy_score(y_train,pred))\n",
    "    test.append(accuracy_score(y_test,predict))\n",
    "\n",
    "   \n",
    "plt.figure(figsize=(8,6))\n",
    "plt.plot(max_depth_list, train, label='Train Accuracy') # Plot training error over domain\n",
    "plt.plot(max_depth_list, test, label='Test Accuracy') # Plot testing error over domain\n",
    "plt.xlabel('Depth') # Label x-axis\n",
    "plt.ylabel('Accuracy') # Label y-axis\n",
    "plt.legend() # Show plot labels as legend\n",
    "plt.show() # Show graph"
   ]
  },
  {
   "cell_type": "markdown",
   "id": "78b2a1dd",
   "metadata": {},
   "source": [
    "## Considering Depth 10 for best Fit"
   ]
  },
  {
   "cell_type": "code",
   "execution_count": 128,
   "id": "34b12612",
   "metadata": {},
   "outputs": [
    {
     "data": {
      "text/plain": [
       "DecisionTreeClassifier(max_depth=10)"
      ]
     },
     "execution_count": 128,
     "metadata": {},
     "output_type": "execute_result"
    }
   ],
   "source": [
    "dtree = tree.DecisionTreeClassifier( max_depth=10)\n",
    "dtree.fit(X_train, y_train)"
   ]
  },
  {
   "cell_type": "code",
   "execution_count": 132,
   "id": "1ccd7d30",
   "metadata": {},
   "outputs": [],
   "source": [
    "y_pred = dtree.predict(X_train)"
   ]
  },
  {
   "cell_type": "code",
   "execution_count": 133,
   "id": "78296862",
   "metadata": {},
   "outputs": [],
   "source": [
    "y_predict = dtree.predict(X_test)"
   ]
  },
  {
   "cell_type": "code",
   "execution_count": 134,
   "id": "4ed640f7",
   "metadata": {},
   "outputs": [
    {
     "name": "stdout",
     "output_type": "stream",
     "text": [
      "Train Accuracy: 0.85\n"
     ]
    }
   ],
   "source": [
    "accuracy = metrics.accuracy_score(y_train, y_pred)\n",
    "print('Train Accuracy: {:.2f}'.format(accuracy))"
   ]
  },
  {
   "cell_type": "code",
   "execution_count": 135,
   "id": "b7488d81",
   "metadata": {},
   "outputs": [
    {
     "name": "stdout",
     "output_type": "stream",
     "text": [
      "Test Accuracy: 0.83\n"
     ]
    }
   ],
   "source": [
    "accuracy1 = metrics.accuracy_score(y_test, y_predict)\n",
    "print('Test Accuracy: {:.2f}'.format(accuracy1))"
   ]
  },
  {
   "cell_type": "code",
   "execution_count": 136,
   "id": "bc776d15",
   "metadata": {},
   "outputs": [
    {
     "name": "stdout",
     "output_type": "stream",
     "text": [
      "[[25250   859]\n",
      " [ 4375  3705]]\n",
      "              precision    recall  f1-score   support\n",
      "\n",
      "           0       0.85      0.97      0.91     26109\n",
      "           1       0.81      0.46      0.59      8080\n",
      "\n",
      "    accuracy                           0.85     34189\n",
      "   macro avg       0.83      0.71      0.75     34189\n",
      "weighted avg       0.84      0.85      0.83     34189\n",
      "\n"
     ]
    }
   ],
   "source": [
    "print(confusion_matrix(y_train, y_pred))\n",
    "print(classification_report(y_train, y_pred))"
   ]
  },
  {
   "cell_type": "code",
   "execution_count": 137,
   "id": "85b96a24",
   "metadata": {},
   "outputs": [
    {
     "name": "stdout",
     "output_type": "stream",
     "text": [
      "[[10607   439]\n",
      " [ 2027  1580]]\n",
      "              precision    recall  f1-score   support\n",
      "\n",
      "           0       0.84      0.96      0.90     11046\n",
      "           1       0.78      0.44      0.56      3607\n",
      "\n",
      "    accuracy                           0.83     14653\n",
      "   macro avg       0.81      0.70      0.73     14653\n",
      "weighted avg       0.83      0.83      0.81     14653\n",
      "\n"
     ]
    }
   ],
   "source": [
    "print(confusion_matrix(y_test, y_predict))\n",
    "print(classification_report(y_test, y_predict))"
   ]
  },
  {
   "cell_type": "markdown",
   "id": "6aabf282",
   "metadata": {},
   "source": [
    "## Random Forest Model"
   ]
  },
  {
   "cell_type": "code",
   "execution_count": 138,
   "id": "798efae7",
   "metadata": {},
   "outputs": [],
   "source": [
    "from sklearn.ensemble import RandomForestClassifier\n",
    "model=RandomForestClassifier(n_estimators = 200, criterion = 'entropy', random_state = 0,max_depth=2)"
   ]
  },
  {
   "cell_type": "code",
   "execution_count": 139,
   "id": "857ba784",
   "metadata": {},
   "outputs": [
    {
     "data": {
      "text/plain": [
       "RandomForestClassifier(criterion='entropy', max_depth=2, n_estimators=200,\n",
       "                       random_state=0)"
      ]
     },
     "execution_count": 139,
     "metadata": {},
     "output_type": "execute_result"
    }
   ],
   "source": [
    "model.fit(X_train,y_train.ravel())"
   ]
  },
  {
   "cell_type": "code",
   "execution_count": 140,
   "id": "f968de54",
   "metadata": {},
   "outputs": [],
   "source": [
    "y_pred=model.predict(X_train)"
   ]
  },
  {
   "cell_type": "code",
   "execution_count": 141,
   "id": "73730316",
   "metadata": {},
   "outputs": [
    {
     "data": {
      "text/plain": [
       "array([0, 0, 0, ..., 0, 0, 1], dtype=int64)"
      ]
     },
     "execution_count": 141,
     "metadata": {},
     "output_type": "execute_result"
    }
   ],
   "source": [
    "y_pred"
   ]
  },
  {
   "cell_type": "code",
   "execution_count": 142,
   "id": "036d7594",
   "metadata": {},
   "outputs": [],
   "source": [
    "y_predict=model.predict(X_test)"
   ]
  },
  {
   "cell_type": "code",
   "execution_count": 143,
   "id": "635e0573",
   "metadata": {},
   "outputs": [
    {
     "data": {
      "text/plain": [
       "array([0, 0, 0, ..., 0, 0, 0], dtype=int64)"
      ]
     },
     "execution_count": 143,
     "metadata": {},
     "output_type": "execute_result"
    }
   ],
   "source": [
    "y_predict"
   ]
  },
  {
   "cell_type": "code",
   "execution_count": 144,
   "id": "440b72c6",
   "metadata": {},
   "outputs": [
    {
     "data": {
      "text/plain": [
       "array([[26092,    17],\n",
       "       [ 6678,  1402]], dtype=int64)"
      ]
     },
     "execution_count": 144,
     "metadata": {},
     "output_type": "execute_result"
    }
   ],
   "source": [
    "from sklearn.metrics import accuracy_score,confusion_matrix\n",
    "confusion_matrix(y_train,y_pred)"
   ]
  },
  {
   "cell_type": "code",
   "execution_count": 145,
   "id": "6872a0fb",
   "metadata": {},
   "outputs": [
    {
     "name": "stdout",
     "output_type": "stream",
     "text": [
      "Train Accuracy: 0.8041767820059084\n"
     ]
    }
   ],
   "source": [
    "from sklearn import metrics\n",
    "print(\"Train Accuracy:\",metrics.accuracy_score(y_train, y_pred))"
   ]
  },
  {
   "cell_type": "code",
   "execution_count": 146,
   "id": "053a8110",
   "metadata": {},
   "outputs": [
    {
     "name": "stdout",
     "output_type": "stream",
     "text": [
      "Test Accuracy: 0.7960144680270251\n"
     ]
    }
   ],
   "source": [
    "from sklearn import metrics\n",
    "print(\"Test Accuracy:\",metrics.accuracy_score(y_test, y_predict))"
   ]
  },
  {
   "cell_type": "code",
   "execution_count": 147,
   "id": "0b862881",
   "metadata": {},
   "outputs": [
    {
     "data": {
      "image/png": "[encoded data removed]",
      "text/plain": [
       "<Figure size 432x288 with 2 Axes>"
      ]
     },
     "metadata": {
      "needs_background": "light"
     },
     "output_type": "display_data"
    }
   ],
   "source": [
    "import seaborn as sn\n",
    "conf_mat = confusion_matrix(y_test,y_predict)\n",
    "sn.heatmap(conf_mat, annot=True)\n",
    "plt.show()"
   ]
  },
  {
   "cell_type": "code",
   "execution_count": 148,
   "id": "ba27ddbb",
   "metadata": {},
   "outputs": [
    {
     "name": "stdout",
     "output_type": "stream",
     "text": [
      "              precision    recall  f1-score   support\n",
      "\n",
      "           0       0.80      1.00      0.89     26109\n",
      "           1       0.99      0.17      0.30      8080\n",
      "\n",
      "    accuracy                           0.80     34189\n",
      "   macro avg       0.89      0.59      0.59     34189\n",
      "weighted avg       0.84      0.80      0.75     34189\n",
      "\n"
     ]
    }
   ],
   "source": [
    "from sklearn.metrics import classification_report\n",
    "print(classification_report(y_train,y_pred))"
   ]
  },
  {
   "cell_type": "code",
   "execution_count": 149,
   "id": "24a8233d",
   "metadata": {},
   "outputs": [
    {
     "name": "stdout",
     "output_type": "stream",
     "text": [
      "              precision    recall  f1-score   support\n",
      "\n",
      "           0       0.79      1.00      0.88     11046\n",
      "           1       0.99      0.17      0.29      3607\n",
      "\n",
      "    accuracy                           0.80     14653\n",
      "   macro avg       0.89      0.59      0.59     14653\n",
      "weighted avg       0.84      0.80      0.74     14653\n",
      "\n"
     ]
    }
   ],
   "source": [
    "from sklearn.metrics import classification_report\n",
    "print(classification_report(y_test,y_predict))"
   ]
  },
  {
   "cell_type": "code",
   "execution_count": 150,
   "id": "e6c4c31a",
   "metadata": {},
   "outputs": [],
   "source": [
    "from sklearn.ensemble import RandomForestClassifier"
   ]
  },
  {
   "cell_type": "code",
   "execution_count": 151,
   "id": "be702ff7",
   "metadata": {},
   "outputs": [
    {
     "name": "stdout",
     "output_type": "stream",
     "text": [
      "   Depth  Accuracy\n",
      "6     50    0.9989\n",
      "7    100    0.9989\n",
      "5     30    0.9789\n",
      "4     20    0.8984\n",
      "3     15    0.8648\n",
      "2     10    0.8463\n",
      "1      5    0.8335\n",
      "0      2    0.8042\n",
      "------------------------\n",
      "   Depth  Accuracy\n",
      "3     15    0.8348\n",
      "2     10    0.8335\n",
      "4     20    0.8325\n",
      "1      5    0.8251\n",
      "5     30    0.8187\n",
      "7    100    0.8067\n",
      "6     50    0.8066\n",
      "0      2    0.7960\n"
     ]
    }
   ],
   "source": [
    "L1 = []\n",
    "L2 = []\n",
    "val_range = [2,5,10,15,20,30,50,100]\n",
    "\n",
    "for i in val_range:\n",
    "    dtree = RandomForestClassifier(n_estimators = 200, criterion = 'entropy', random_state = 0,max_depth= i)\n",
    "    dtree.fit(X_train,y_train.ravel())\n",
    "    y_pred = dtree.predict(X_train)\n",
    "    y_predict = dtree.predict(X_test)\n",
    "    L1.append(round(accuracy_score(y_train,y_pred),4))\n",
    "    L2.append(round(accuracy_score(y_test,y_predict),4))\n",
    "L_val = pd.concat([pd.Series(val_range),pd.Series(L1)], axis=1)\n",
    "L1_val = pd.concat([pd.Series(val_range),pd.Series(L2)], axis=1)\n",
    "L_val.columns = ['Depth','Accuracy']\n",
    "L1_val.columns = ['Depth','Accuracy']\n",
    "L_val.sort_values(by=\"Accuracy\", ascending=False, inplace = True)\n",
    "L1_val.sort_values(by=\"Accuracy\", ascending=False, inplace = True)\n",
    "print(L_val)\n",
    "print('------------------------')\n",
    "print(L1_val)"
   ]
  },
  {
   "cell_type": "code",
   "execution_count": 158,
   "id": "99924965",
   "metadata": {},
   "outputs": [
    {
     "data": {
      "image/png": "[encoded data removed]",
      "text/plain": [
       "<Figure size 576x432 with 1 Axes>"
      ]
     },
     "metadata": {
      "needs_background": "light"
     },
     "output_type": "display_data"
    }
   ],
   "source": [
    "\n",
    "max_depth_list = [2,5,10,15,20,30,50,100]\n",
    "\n",
    "train = [] # Log training errors for each model\n",
    "test = [] # Log testing errors for each model\n",
    "\n",
    "for x in max_depth_list:\n",
    "    dtree = RandomForestClassifier(n_estimators = 200, criterion = 'entropy', random_state = 0,max_depth=x)\n",
    "    dtree.fit(X_train,y_train.ravel())\n",
    "    pred = dtree.predict(X_train)\n",
    "    predict = dtree.predict(X_test)\n",
    "    train.append(accuracy_score(y_train,pred))\n",
    "    test.append(accuracy_score(y_test,predict))\n",
    "\n",
    "plt.figure(figsize=(8,6))\n",
    "plt.plot(max_depth_list, train, label='Train Accuracy') # Plot training error over domain\n",
    "plt.plot(max_depth_list, test, label='Test Accuracy') # Plot testing error over domain\n",
    "plt.xlabel('Depth') # Label x-axis\n",
    "plt.ylabel('Accuracy') # Label y-axis\n",
    "plt.legend() # Show plot labels as legend\n",
    "plt.show() # Show graph"
   ]
  },
  {
   "cell_type": "markdown",
   "id": "a4c7c097",
   "metadata": {},
   "source": [
    "## based on the plot, considering Depth 15 as the best fit for random model"
   ]
  },
  {
   "cell_type": "code",
   "execution_count": 159,
   "id": "548d8487",
   "metadata": {},
   "outputs": [],
   "source": [
    "from sklearn.ensemble import RandomForestClassifier\n",
    "model=RandomForestClassifier(n_estimators = 200, criterion = 'entropy', random_state = 0,max_depth=5)"
   ]
  },
  {
   "cell_type": "code",
   "execution_count": 160,
   "id": "7b37214c",
   "metadata": {},
   "outputs": [
    {
     "data": {
      "text/plain": [
       "RandomForestClassifier(criterion='entropy', max_depth=5, n_estimators=200,\n",
       "                       random_state=0)"
      ]
     },
     "execution_count": 160,
     "metadata": {},
     "output_type": "execute_result"
    }
   ],
   "source": [
    "model.fit(X_train,y_train.ravel())"
   ]
  },
  {
   "cell_type": "code",
   "execution_count": 161,
   "id": "eff2c392",
   "metadata": {},
   "outputs": [],
   "source": [
    "y_pred=model.predict(X_train)"
   ]
  },
  {
   "cell_type": "code",
   "execution_count": 162,
   "id": "ce0704e7",
   "metadata": {},
   "outputs": [],
   "source": [
    "y_predict = model.predict(X_test)"
   ]
  },
  {
   "cell_type": "code",
   "execution_count": 164,
   "id": "8f4d1895",
   "metadata": {},
   "outputs": [
    {
     "name": "stdout",
     "output_type": "stream",
     "text": [
      "Train Accuracy: 0.8334844540641727\n"
     ]
    }
   ],
   "source": [
    "from sklearn import metrics\n",
    "print(\"Train Accuracy:\",metrics.accuracy_score(y_train, y_pred))"
   ]
  },
  {
   "cell_type": "code",
   "execution_count": 165,
   "id": "78a04082",
   "metadata": {},
   "outputs": [
    {
     "name": "stdout",
     "output_type": "stream",
     "text": [
      "Test Accuracy: 0.8250870128983826\n"
     ]
    }
   ],
   "source": [
    "from sklearn import metrics\n",
    "print(\"Test Accuracy:\",metrics.accuracy_score(y_test, y_predict))"
   ]
  },
  {
   "cell_type": "code",
   "execution_count": 166,
   "id": "357aa931",
   "metadata": {},
   "outputs": [
    {
     "name": "stdout",
     "output_type": "stream",
     "text": [
      "              precision    recall  f1-score   support\n",
      "\n",
      "           0       0.84      0.97      0.90     26109\n",
      "           1       0.81      0.39      0.52      8080\n",
      "\n",
      "    accuracy                           0.83     34189\n",
      "   macro avg       0.82      0.68      0.71     34189\n",
      "weighted avg       0.83      0.83      0.81     34189\n",
      "\n"
     ]
    }
   ],
   "source": [
    "from sklearn.metrics import classification_report\n",
    "print(classification_report(y_train,y_pred))"
   ]
  },
  {
   "cell_type": "code",
   "execution_count": 167,
   "id": "9a53e3e6",
   "metadata": {},
   "outputs": [
    {
     "name": "stdout",
     "output_type": "stream",
     "text": [
      "              precision    recall  f1-score   support\n",
      "\n",
      "           0       0.83      0.97      0.89     11046\n",
      "           1       0.81      0.38      0.52      3607\n",
      "\n",
      "    accuracy                           0.83     14653\n",
      "   macro avg       0.82      0.67      0.70     14653\n",
      "weighted avg       0.82      0.83      0.80     14653\n",
      "\n"
     ]
    }
   ],
   "source": [
    "from sklearn.metrics import classification_report\n",
    "print(classification_report(y_test,y_predict))"
   ]
  },
  {
   "cell_type": "code",
   "execution_count": null,
   "id": "62f20c13",
   "metadata": {},
   "outputs": [],
   "source": []
  },
  {
   "cell_type": "code",
   "execution_count": null,
   "id": "309d062b",
   "metadata": {},
   "outputs": [],
   "source": []
  },
  {
   "cell_type": "code",
   "execution_count": null,
   "id": "fa5bf6b3",
   "metadata": {},
   "outputs": [],
   "source": []
  },
  {
   "cell_type": "code",
   "execution_count": null,
   "id": "ae17d592",
   "metadata": {},
   "outputs": [],
   "source": []
  },
  {
   "cell_type": "code",
   "execution_count": null,
   "id": "0e4e4e64",
   "metadata": {},
   "outputs": [],
   "source": []
  },
  {
   "cell_type": "code",
   "execution_count": null,
   "id": "fa1e6002",
   "metadata": {},
   "outputs": [],
   "source": []
  },
  {
   "cell_type": "code",
   "execution_count": null,
   "id": "4f3d616e",
   "metadata": {},
   "outputs": [],
   "source": []
  },
  {
   "cell_type": "code",
   "execution_count": null,
   "id": "8370b207",
   "metadata": {},
   "outputs": [],
   "source": []
  },
  {
   "cell_type": "code",
   "execution_count": null,
   "id": "f97ae0de",
   "metadata": {},
   "outputs": [],
   "source": []
  },
  {
   "cell_type": "code",
   "execution_count": null,
   "id": "d817fa1d",
   "metadata": {},
   "outputs": [],
   "source": []
  },
  {
   "cell_type": "code",
   "execution_count": null,
   "id": "a0819c59",
   "metadata": {},
   "outputs": [],
   "source": []
  },
  {
   "cell_type": "code",
   "execution_count": null,
   "id": "fc7416c3",
   "metadata": {},
   "outputs": [],
   "source": []
  },
  {
   "cell_type": "code",
   "execution_count": null,
   "id": "00c39914",
   "metadata": {},
   "outputs": [],
   "source": []
  },
  {
   "cell_type": "code",
   "execution_count": null,
   "id": "64bc45fd",
   "metadata": {},
   "outputs": [],
   "source": []
  },
  {
   "cell_type": "code",
   "execution_count": null,
   "id": "d3d79991",
   "metadata": {},
   "outputs": [],
   "source": []
  },
  {
   "cell_type": "code",
   "execution_count": null,
   "id": "a6c150a5",
   "metadata": {},
   "outputs": [],
   "source": []
  },
  {
   "cell_type": "code",
   "execution_count": null,
   "id": "387a0dfd",
   "metadata": {},
   "outputs": [],
   "source": []
  },
  {
   "cell_type": "code",
   "execution_count": null,
   "id": "1865344f",
   "metadata": {},
   "outputs": [],
   "source": []
  },
  {
   "cell_type": "code",
   "execution_count": null,
   "id": "6b045011",
   "metadata": {},
   "outputs": [],
   "source": []
  },
  {
   "cell_type": "code",
   "execution_count": null,
   "id": "021369d9",
   "metadata": {},
   "outputs": [],
   "source": []
  },
  {
   "cell_type": "code",
   "execution_count": null,
   "id": "7bafd326",
   "metadata": {},
   "outputs": [],
   "source": []
  },
  {
   "cell_type": "code",
   "execution_count": null,
   "id": "0b2ce375",
   "metadata": {},
   "outputs": [],
   "source": []
  },
  {
   "cell_type": "code",
   "execution_count": null,
   "id": "cddec013",
   "metadata": {},
   "outputs": [],
   "source": []
  },
  {
   "cell_type": "code",
   "execution_count": null,
   "id": "2e8e0904",
   "metadata": {},
   "outputs": [],
   "source": []
  },
  {
   "cell_type": "code",
   "execution_count": null,
   "id": "6e5298f7",
   "metadata": {},
   "outputs": [],
   "source": []
  },
  {
   "cell_type": "code",
   "execution_count": null,
   "id": "3fbc7ebb",
   "metadata": {},
   "outputs": [],
   "source": []
  },
  {
   "cell_type": "code",
   "execution_count": null,
   "id": "56e0f68a",
   "metadata": {},
   "outputs": [],
   "source": []
  },
  {
   "cell_type": "code",
   "execution_count": null,
   "id": "2d6cd91a",
   "metadata": {},
   "outputs": [],
   "source": []
  },
  {
   "cell_type": "code",
   "execution_count": null,
   "id": "fe2a1627",
   "metadata": {},
   "outputs": [],
   "source": []
  },
  {
   "cell_type": "code",
   "execution_count": null,
   "id": "f3ad739e",
   "metadata": {},
   "outputs": [],
   "source": []
  },
  {
   "cell_type": "code",
   "execution_count": null,
   "id": "727fef5b",
   "metadata": {},
   "outputs": [],
   "source": []
  },
  {
   "cell_type": "code",
   "execution_count": null,
   "id": "87450d14",
   "metadata": {},
   "outputs": [],
   "source": []
  },
  {
   "cell_type": "code",
   "execution_count": null,
   "id": "8160956f",
   "metadata": {},
   "outputs": [],
   "source": []
  },
  {
   "cell_type": "code",
   "execution_count": null,
   "id": "b187efad",
   "metadata": {},
   "outputs": [],
   "source": []
  },
  {
   "cell_type": "code",
   "execution_count": null,
   "id": "db42511c",
   "metadata": {},
   "outputs": [],
   "source": []
  },
  {
   "cell_type": "code",
   "execution_count": null,
   "id": "1e2e2a67",
   "metadata": {},
   "outputs": [],
   "source": []
  },
  {
   "cell_type": "code",
   "execution_count": null,
   "id": "7dd922e2",
   "metadata": {},
   "outputs": [],
   "source": []
  },
  {
   "cell_type": "code",
   "execution_count": null,
   "id": "f586847e",
   "metadata": {},
   "outputs": [],
   "source": []
  },
  {
   "cell_type": "code",
   "execution_count": null,
   "id": "3f7b6f00",
   "metadata": {},
   "outputs": [],
   "source": []
  },
  {
   "cell_type": "code",
   "execution_count": null,
   "id": "7e24b5d2",
   "metadata": {},
   "outputs": [],
   "source": []
  },
  {
   "cell_type": "code",
   "execution_count": null,
   "id": "dfcdcbb4",
   "metadata": {},
   "outputs": [],
   "source": []
  },
  {
   "cell_type": "code",
   "execution_count": null,
   "id": "d8092c47",
   "metadata": {},
   "outputs": [],
   "source": []
  }
 ],
 "metadata": {
  "kernelspec": {
   "display_name": "Python 3 (ipykernel)",
   "language": "python",
   "name": "python3"
  },
  "language_info": {
   "codemirror_mode": {
    "name": "ipython",
    "version": 3
   },
   "file_extension": ".py",
   "mimetype": "text/x-python",
   "name": "python",
   "nbconvert_exporter": "python",
   "pygments_lexer": "ipython3",
   "version": "3.9.12"
  }
 },
 "nbformat": 4,
 "nbformat_minor": 5
}
